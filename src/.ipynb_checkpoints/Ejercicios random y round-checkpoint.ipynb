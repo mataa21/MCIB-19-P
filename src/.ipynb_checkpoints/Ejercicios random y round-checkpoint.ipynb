{
 "cells": [
  {
   "cell_type": "code",
   "execution_count": 14,
   "metadata": {},
   "outputs": [],
   "source": [
    "import random as rd\n",
    "import math as mt"
   ]
  },
  {
   "cell_type": "code",
   "execution_count": 41,
   "metadata": {},
   "outputs": [
    {
     "name": "stdout",
     "output_type": "stream",
     "text": [
      "20\n",
      "12\n",
      "46\n",
      "50\n",
      "19\n"
     ]
    }
   ],
   "source": [
    "# Genere una secuencia de 5 números enteros aleatorios\n",
    "print(rd.randint(0,50))\n",
    "print(rd.randint(0,50))\n",
    "print(rd.randint(0,50))\n",
    "print(rd.randint(0,50))\n",
    "print(rd.randint(0,50))"
   ]
  },
  {
   "cell_type": "code",
   "execution_count": 37,
   "metadata": {},
   "outputs": [
    {
     "name": "stdout",
     "output_type": "stream",
     "text": [
      "0.263938637522949\n",
      "0.27315947434506044\n",
      "-0.16665252179442885\n",
      "0.3995822737165452\n",
      "0.627360927415282\n"
     ]
    }
   ],
   "source": [
    "# Genere una secuencia de 5 números aleatorios de distribución gaussiana de media 0 y varianza .5\n",
    "print(rd.gauss(0,.5))\n",
    "print(rd.gauss(0,.5))\n",
    "print(rd.gauss(0,.5))\n",
    "print(rd.gauss(0,.5))\n",
    "print(rd.gauss(0,.5))"
   ]
  },
  {
   "cell_type": "code",
   "execution_count": 12,
   "metadata": {},
   "outputs": [
    {
     "name": "stdout",
     "output_type": "stream",
     "text": [
      "0.0736051619179594\n",
      "-3.631458099323787\n",
      "-1.2006289101558287\n",
      "0.23394099118079992\n",
      "0.2768451427131098\n"
     ]
    }
   ],
   "source": [
    "# Genere una secuencia de 5 números aleatorios de distribución gaussiana de media -1 y varianza 2\n",
    "print(rd.gauss(-1,2))\n",
    "print(rd.gauss(-1,2))\n",
    "print(rd.gauss(-1,2))\n",
    "print(rd.gauss(-1,2))\n",
    "print(rd.gauss(-1,2))"
   ]
  },
  {
   "cell_type": "code",
   "execution_count": 39,
   "metadata": {},
   "outputs": [
    {
     "name": "stdout",
     "output_type": "stream",
     "text": [
      "0.0132\n",
      "-0.4556\n",
      "0.3822\n",
      "0.3047\n",
      "0.7842\n"
     ]
    }
   ],
   "source": [
    "# Genere una secuencia de 5 números aleatorios de distribución gaussiana de media 0 y varianza .5 con ROUND\n",
    "print(round(rd.gauss(0,0.5), 4))\n",
    "print(round(rd.gauss(0,0.5), 4))\n",
    "print(round(rd.gauss(0,0.5), 4))\n",
    "print(round(rd.gauss(0,0.5), 4))\n",
    "print(round(rd.gauss(0,0.5), 4))"
   ]
  },
  {
   "cell_type": "code",
   "execution_count": 38,
   "metadata": {},
   "outputs": [
    {
     "name": "stdout",
     "output_type": "stream",
     "text": [
      "-1.2677\n",
      "0.4611\n",
      "-1.3165\n",
      "-1.7717\n",
      "-0.0358\n"
     ]
    }
   ],
   "source": [
    "# Genere una secuencia de 5 números aleatorios de distribución gaussiana de media -1 y varianza 2 con ROUND\n",
    "print(round(rd.gauss(-1,2), 4))\n",
    "print(round(rd.gauss(-1,2), 4))\n",
    "print(round(rd.gauss(-1,2), 4))\n",
    "print(round(rd.gauss(-1,2), 4))\n",
    "print(round(rd.gauss(-1,2), 4))"
   ]
  },
  {
   "cell_type": "code",
   "execution_count": null,
   "metadata": {},
   "outputs": [],
   "source": []
  }
 ],
 "metadata": {
  "kernelspec": {
   "display_name": "Python 3",
   "language": "python",
   "name": "python3"
  },
  "language_info": {
   "codemirror_mode": {
    "name": "ipython",
    "version": 3
   },
   "file_extension": ".py",
   "mimetype": "text/x-python",
   "name": "python",
   "nbconvert_exporter": "python",
   "pygments_lexer": "ipython3",
   "version": "3.7.3"
  }
 },
 "nbformat": 4,
 "nbformat_minor": 2
}
